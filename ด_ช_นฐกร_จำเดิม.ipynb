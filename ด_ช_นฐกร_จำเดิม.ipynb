{
  "nbformat": 4,
  "nbformat_minor": 0,
  "metadata": {
    "colab": {
      "name": "ด.ช.นฐกร จำเดิม.ipynb",
      "provenance": [],
      "toc_visible": true,
      "authorship_tag": "ABX9TyOaku+9hUVhz6eRxZ1LJpsx",
      "include_colab_link": true
    },
    "kernelspec": {
      "name": "python3",
      "display_name": "Python 3"
    }
  },
  "cells": [
    {
      "cell_type": "markdown",
      "metadata": {
        "id": "view-in-github",
        "colab_type": "text"
      },
      "source": [
        "<a href=\"https://colab.research.google.com/github/veltus5184/VyrixHCFCore/blob/master/%E0%B8%94_%E0%B8%8A_%E0%B8%99%E0%B8%90%E0%B8%81%E0%B8%A3_%E0%B8%88%E0%B8%B3%E0%B9%80%E0%B8%94%E0%B8%B4%E0%B8%A1.ipynb\" target=\"_parent\"><img src=\"https://colab.research.google.com/assets/colab-badge.svg\" alt=\"Open In Colab\"/></a>"
      ]
    },
    {
      "cell_type": "code",
      "metadata": {
        "colab": {
          "base_uri": "https://localhost:8080/"
        },
        "id": "jZv7fxfCGMQ6",
        "outputId": "6db7492b-a1d5-466c-f1f5-01fa918c193e"
      },
      "source": [
        "print(\"Please input a number for the length.\")\r\n",
        "length =  int(input())\r\n",
        "print(\"Please input a number for the width\")\r\n",
        "width = int(input())\r\n",
        "print(\"The rectangles size is \" + str(length * width))"
      ],
      "execution_count": null,
      "outputs": [
        {
          "output_type": "stream",
          "text": [
            "Please input a number for the length.\n",
            "2\n",
            "Please input a number for the width\n",
            "3\n",
            "The rectangles size is 6\n"
          ],
          "name": "stdout"
        }
      ]
    },
    {
      "cell_type": "code",
      "metadata": {
        "colab": {
          "base_uri": "https://localhost:8080/"
        },
        "id": "0bXHynHzJsIR",
        "outputId": "65bce2cd-64b4-4120-fcfb-749f6e7ecad1"
      },
      "source": [
        "print(\"Coded by เด็กชายนฐกร จำเดิม\")\r\n",
        "print(\"คำนวณพื้นที่สามเหลี่ยม\")\r\n",
        "base = 10\r\n",
        "print(\"ความยาวฐาน =\", base)\r\n",
        "height = 20\r\n",
        "print(\"ความสูง =\", height)\r\n",
        "area = 1/2 * 10 * 20\r\n",
        "print(\"พื้นที่สามเหลี่ยม: \" + str(float(area)))"
      ],
      "execution_count": 12,
      "outputs": [
        {
          "output_type": "stream",
          "text": [
            "Coded by เด็กชายนฐกร จำเดิม\n",
            "คำนวณพื้นที่สามเหลี่ยม\n",
            "ความยาวฐาน = 10\n",
            "ความสูง = 20\n",
            "พื้นที่สามเหลี่ยม: 100.0\n"
          ],
          "name": "stdout"
        }
      ]
    },
    {
      "cell_type": "code",
      "metadata": {
        "colab": {
          "base_uri": "https://localhost:8080/"
        },
        "id": "QyxwzVLBPGsX",
        "outputId": "00364916-bfc7-4562-8110-89fd19e4fe29"
      },
      "source": [
        "print(\"โปรแกรมหาทุกอย่างของวงกลม\")\r\n",
        "pi = 22/7\r\n",
        "radius = input() * 2\r\n",
        "area1 = float(pi) * int(radius)\r\n",
        "print(\"พื้นที่วงกลม = \" + str(float(area1)))\r\n",
        "print(\"Circle Line Length\")\r\n",
        "area2 = 2 * float(pi) * int(radius)\r\n",
        "print(\"ความยาวรอบวง = \" + str(area2))"
      ],
      "execution_count": null,
      "outputs": [
        {
          "output_type": "stream",
          "text": [
            "โปรแกรมหาทุกอย่างของวงกลม\n",
            "6\n",
            "พื้นที่วงกลม = 207.42857142857142\n",
            "Circle Line Length\n",
            "ความยาวรอบวง = 414.85714285714283\n"
          ],
          "name": "stdout"
        }
      ]
    },
    {
      "cell_type": "code",
      "metadata": {
        "colab": {
          "base_uri": "https://localhost:8080/"
        },
        "id": "ly324NCsKWVR",
        "outputId": "e0784881-af10-467a-b355-215ea0fe91d5"
      },
      "source": [
        "print(\"Coded by เด็กชายนฐกร จำเดิม\")\r\n",
        "print(\"Circle Calculation\")\r\n",
        "radius = 18/2\r\n",
        "pi = 22/7\r\n",
        "print(\"Radius: \" + str(radius))\r\n",
        "\r\n",
        "circleArea = 22/7 * radius ** 2\r\n",
        "print(\"พื้นที่วงกลม =\", circleArea)\r\n",
        "circleLength = 2 * 22/7 * radius\r\n",
        "print(\"เส้นรอบวง =\", circleLength)"
      ],
      "execution_count": 14,
      "outputs": [
        {
          "output_type": "stream",
          "text": [
            "Coded by เด็กชายนฐกร จำเดิม\n",
            "Circle Calculation\n",
            "Radius: 9.0\n",
            "พื้นที่วงกลม = 254.57142857142856\n",
            "เส้นรอบวง = 56.57142857142857\n"
          ],
          "name": "stdout"
        }
      ]
    },
    {
      "cell_type": "code",
      "metadata": {
        "id": "rV3cWmHTNdbD",
        "colab": {
          "base_uri": "https://localhost:8080/"
        },
        "outputId": "abd72d74-5708-4e87-93c9-0fcd8596c047"
      },
      "source": [
        "for each in [\"lol\", \"kiss\", \"my\", \"fat\", \"ass\"] :\r\n",
        "  print(each)"
      ],
      "execution_count": 2,
      "outputs": [
        {
          "output_type": "stream",
          "text": [
            "lol\n",
            "kiss\n",
            "my\n",
            "fat\n",
            "ass\n"
          ],
          "name": "stdout"
        }
      ]
    },
    {
      "cell_type": "code",
      "metadata": {
        "id": "9qqvbxVNPk34"
      },
      "source": [
        ""
      ],
      "execution_count": null,
      "outputs": []
    }
  ]
}